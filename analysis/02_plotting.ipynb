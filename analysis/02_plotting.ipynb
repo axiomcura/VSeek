{
 "cells": [
  {
   "cell_type": "code",
   "execution_count": 1,
   "metadata": {},
   "outputs": [],
   "source": [
    "import sys\n",
    "import json\n",
    "\n",
    "import pandas as pd\n",
    "import numpy as np\n",
    "import matplotlib.pyplot as plt\n",
    "import seaborn as sns\n",
    "import dataframe_image as dfi\n",
    "import plotly.express as px\n",
    "\n",
    "# vseek imports\n",
    "sys.path.append(\"..\")\n",
    "import vseek.common.loader as vloader \n",
    "from vseek.common.io_files import save_interaction_profiles\n"
   ]
  },
  {
   "cell_type": "code",
   "execution_count": 2,
   "metadata": {},
   "outputs": [
    {
     "data": {
      "text/html": [
       "<div>\n",
       "<style scoped>\n",
       "    .dataframe tbody tr th:only-of-type {\n",
       "        vertical-align: middle;\n",
       "    }\n",
       "\n",
       "    .dataframe tbody tr th {\n",
       "        vertical-align: top;\n",
       "    }\n",
       "\n",
       "    .dataframe thead th {\n",
       "        text-align: right;\n",
       "    }\n",
       "</style>\n",
       "<table border=\"1\" class=\"dataframe\">\n",
       "  <thead>\n",
       "    <tr style=\"text-align: right;\">\n",
       "      <th></th>\n",
       "      <th>accession</th>\n",
       "      <th>counts</th>\n",
       "      <th>rel_abundance</th>\n",
       "    </tr>\n",
       "  </thead>\n",
       "  <tbody>\n",
       "    <tr>\n",
       "      <th>0</th>\n",
       "      <td>NC_006273</td>\n",
       "      <td>1591</td>\n",
       "      <td>68.58</td>\n",
       "    </tr>\n",
       "    <tr>\n",
       "      <th>1</th>\n",
       "      <td>NC_001664</td>\n",
       "      <td>150</td>\n",
       "      <td>6.47</td>\n",
       "    </tr>\n",
       "    <tr>\n",
       "      <th>2</th>\n",
       "      <td>NC_001348</td>\n",
       "      <td>129</td>\n",
       "      <td>5.56</td>\n",
       "    </tr>\n",
       "    <tr>\n",
       "      <th>4</th>\n",
       "      <td>NC_035469</td>\n",
       "      <td>69</td>\n",
       "      <td>2.97</td>\n",
       "    </tr>\n",
       "    <tr>\n",
       "      <th>11</th>\n",
       "      <td>NC_001611</td>\n",
       "      <td>55</td>\n",
       "      <td>2.37</td>\n",
       "    </tr>\n",
       "  </tbody>\n",
       "</table>\n",
       "</div>"
      ],
      "text/plain": [
       "    accession  counts  rel_abundance\n",
       "0   NC_006273    1591          68.58\n",
       "1   NC_001664     150           6.47\n",
       "2   NC_001348     129           5.56\n",
       "4   NC_035469      69           2.97\n",
       "11  NC_001611      55           2.37"
      ]
     },
     "execution_count": 2,
     "metadata": {},
     "output_type": "execute_result"
    }
   ],
   "source": [
    "# midway sample data (over 900 minutes of calculations)\n",
    "# NOTE LOADING DBATVIR data\n",
    "dbat_vir_df = vloader.load_dbat_vir_db()\n",
    "\n",
    "# NOTE LOADING NCBI ACCESSION DATA \n",
    "ncbi_virus_data = vloader.load_bat_virus_data()\n",
    "\n",
    "# NOTE: LOADING GEO DATA\n",
    "geolocations_df = vloader.load_geolocations()\n",
    "geolocations_df = geolocations_df[[\"country\", \"name\"]]\n",
    "geolocations_df.columns = [\"iso_alpha\", \"country\"]\n",
    "iso_codes_df = vloader.load_iban_iso_codes()\n",
    "\n",
    "# NOTE: LOADING VIRAL COUNTS DATA \n",
    "# with open(\"./viral_composition_counts.json\", \"r\") as infile:\n",
    "with open(\"./SRR12464727_viral_composition_counts.json\", \"r\") as infile:\n",
    "    viral_count_data = json.load(infile)\n",
    "\n",
    "viral_count_df = pd.DataFrame.from_dict(data=viral_count_data, orient=\"index\").reset_index()\n",
    "viral_count_df.columns = [\"accession\", \"counts\"]\n",
    "\n",
    "# -- calculating relative abundance \n",
    "def rel_abundance(counts: int, counts_sum: int) -> float:\n",
    "    \"\"\"Calculates relative abundance given total sum\n",
    "\n",
    "    Parameters\n",
    "    ----------\n",
    "    counts : int\n",
    "        counts of virus\n",
    "    counts_sum : int\n",
    "        total amount of counts\n",
    "\n",
    "    Returns\n",
    "    -------\n",
    "    float\n",
    "        relative abundance percentage\n",
    "    \"\"\"\n",
    "    return round((counts/ counts_sum) * 100.0 ,2)\n",
    "\n",
    "viral_count_sum = np.sum(viral_count_df[\"counts\"])\n",
    "viral_count_df[\"rel_abundance\"] = viral_count_df[\"counts\"].apply(lambda count: rel_abundance(counts=count, counts_sum=viral_count_sum))\n",
    "viral_count_df = viral_count_df.sort_values(by=\"rel_abundance\", ascending=False)\n",
    "viral_count_df.head()\n"
   ]
  },
  {
   "cell_type": "markdown",
   "metadata": {},
   "source": [
    "# generating a pie chart"
   ]
  },
  {
   "cell_type": "code",
   "execution_count": 3,
   "metadata": {},
   "outputs": [
    {
     "data": {
      "image/png": "[encoded data removed]",
      "text/plain": [
       "<Figure size 1200x800 with 1 Axes>"
      ]
     },
     "metadata": {},
     "output_type": "display_data"
    }
   ],
   "source": [
    "fig = plt.figure(dpi=200)\n",
    "\n",
    "threshold_abundance = 1.0\n",
    "selected_counts = viral_count_df.loc[viral_count_df[\"rel_abundance\"] >= threshold_abundance]\n",
    "\n",
    "# gathering data\n",
    "labels = selected_counts[\"accession\"]\n",
    "scores = selected_counts[\"counts\"] \n",
    "\n",
    "# generate a pie chart\n",
    "colors = sns.color_palette('pastel')[0:10]\n",
    "\n",
    "#create pie chart\n",
    "plot = plt.pie(scores, labels=labels, colors=colors, autopct='%.0f%%', textprops={\"fontsize\": 8})\n",
    "plt.title(\"Viral Characterizations\")\n",
    "plt.savefig(\"../results/viral_characterizations_piechart.png\")\n",
    "plt.show()\n"
   ]
  },
  {
   "cell_type": "markdown",
   "metadata": {},
   "source": [
    "selected_counts.sample()"
   ]
  },
  {
   "cell_type": "code",
   "execution_count": 4,
   "metadata": {},
   "outputs": [
    {
     "name": "stderr",
     "output_type": "stream",
     "text": [
      "objc[18212]: Class WebSwapCGLLayer is implemented in both /System/Library/Frameworks/WebKit.framework/Versions/A/Frameworks/WebCore.framework/Versions/A/Frameworks/libANGLE-shared.dylib (0x7ffb5c7eb948) and /Applications/Google Chrome.app/Contents/Frameworks/Google Chrome Framework.framework/Versions/102.0.5005.115/Libraries/libGLESv2.dylib (0x1105c7290). One of the two will be used. Which one is undefined.\n",
      "[0616/015427.618467:INFO:headless_shell.cc(660)] Written to file /var/folders/88/kxtrpbsj7mg68w7mlprrsbvr0000gn/T/tmp4p04nq86/temp.png.\n"
     ]
    },
    {
     "data": {
      "text/html": [
       "<div>\n",
       "<style scoped>\n",
       "    .dataframe tbody tr th:only-of-type {\n",
       "        vertical-align: middle;\n",
       "    }\n",
       "\n",
       "    .dataframe tbody tr th {\n",
       "        vertical-align: top;\n",
       "    }\n",
       "\n",
       "    .dataframe thead th {\n",
       "        text-align: right;\n",
       "    }\n",
       "</style>\n",
       "<table border=\"1\" class=\"dataframe\">\n",
       "  <thead>\n",
       "    <tr style=\"text-align: right;\">\n",
       "      <th></th>\n",
       "      <th>family</th>\n",
       "      <th>genus</th>\n",
       "      <th>counts</th>\n",
       "      <th>rel_abundance</th>\n",
       "    </tr>\n",
       "    <tr>\n",
       "      <th>accession</th>\n",
       "      <th></th>\n",
       "      <th></th>\n",
       "      <th></th>\n",
       "      <th></th>\n",
       "    </tr>\n",
       "  </thead>\n",
       "  <tbody>\n",
       "    <tr>\n",
       "      <th>NC_006273</th>\n",
       "      <td>Herpesviridae</td>\n",
       "      <td>Cytomegalovirus</td>\n",
       "      <td>1591</td>\n",
       "      <td>68.58</td>\n",
       "    </tr>\n",
       "    <tr>\n",
       "      <th>NC_001664</th>\n",
       "      <td>Herpesviridae</td>\n",
       "      <td>Roseolovirus</td>\n",
       "      <td>150</td>\n",
       "      <td>6.47</td>\n",
       "    </tr>\n",
       "    <tr>\n",
       "      <th>NC_001348</th>\n",
       "      <td>Herpesviridae</td>\n",
       "      <td>Varicellovirus</td>\n",
       "      <td>129</td>\n",
       "      <td>5.56</td>\n",
       "    </tr>\n",
       "    <tr>\n",
       "      <th>NC_035469</th>\n",
       "      <td>Poxviridae</td>\n",
       "      <td>Centapoxvirus</td>\n",
       "      <td>69</td>\n",
       "      <td>2.97</td>\n",
       "    </tr>\n",
       "    <tr>\n",
       "      <th>NC_001611</th>\n",
       "      <td>Poxviridae</td>\n",
       "      <td>Orthopoxvirus</td>\n",
       "      <td>55</td>\n",
       "      <td>2.37</td>\n",
       "    </tr>\n",
       "    <tr>\n",
       "      <th>NC_001716</th>\n",
       "      <td>Herpesviridae</td>\n",
       "      <td>Roseolovirus</td>\n",
       "      <td>48</td>\n",
       "      <td>2.07</td>\n",
       "    </tr>\n",
       "  </tbody>\n",
       "</table>\n",
       "</div>"
      ],
      "text/plain": [
       "                  family            genus  counts  rel_abundance\n",
       "accession                                                       \n",
       "NC_006273  Herpesviridae  Cytomegalovirus    1591          68.58\n",
       "NC_001664  Herpesviridae     Roseolovirus     150           6.47\n",
       "NC_001348  Herpesviridae   Varicellovirus     129           5.56\n",
       "NC_035469     Poxviridae    Centapoxvirus      69           2.97\n",
       "NC_001611     Poxviridae    Orthopoxvirus      55           2.37\n",
       "NC_001716  Herpesviridae     Roseolovirus      48           2.07"
      ]
     },
     "execution_count": 4,
     "metadata": {},
     "output_type": "execute_result"
    }
   ],
   "source": [
    "# Creating a label table that shoes the name of the virus with the associated the plot above\n",
    "viral_taxa = ncbi_virus_data[[\"Representative\", \"family\", \"genus\"]]\n",
    "viral_taxa.columns = [\"accession\", \"family\", \"genus\"]\n",
    "identified_virus_df = viral_taxa.merge(selected_counts, on=\"accession\")\n",
    "identified_virus_df = identified_virus_df.sort_values(by=\"rel_abundance\", ascending=False)\n",
    "identified_virus_df = identified_virus_df.set_index(\"accession\")\n",
    "\n",
    "# saving table as an image \n",
    "dfi.export(identified_virus_df, \"../results/identified_virus_table.png\")\n",
    "\n",
    "identified_virus_df\n"
   ]
  },
  {
   "cell_type": "markdown",
   "metadata": {},
   "source": [
    "## Profiling "
   ]
  },
  {
   "cell_type": "markdown",
   "metadata": {},
   "source": [
    "### geolocation profile "
   ]
  },
  {
   "cell_type": "code",
   "execution_count": 5,
   "metadata": {},
   "outputs": [
    {
     "data": {
      "text/html": [
       "<div>\n",
       "<style scoped>\n",
       "    .dataframe tbody tr th:only-of-type {\n",
       "        vertical-align: middle;\n",
       "    }\n",
       "\n",
       "    .dataframe tbody tr th {\n",
       "        vertical-align: top;\n",
       "    }\n",
       "\n",
       "    .dataframe thead th {\n",
       "        text-align: right;\n",
       "    }\n",
       "</style>\n",
       "<table border=\"1\" class=\"dataframe\">\n",
       "  <thead>\n",
       "    <tr style=\"text-align: right;\">\n",
       "      <th></th>\n",
       "      <th>country</th>\n",
       "      <th>viral_fam</th>\n",
       "      <th>all_bats</th>\n",
       "      <th>bat_counts</th>\n",
       "      <th>iso_alpha</th>\n",
       "      <th>alpha_iso3</th>\n",
       "    </tr>\n",
       "  </thead>\n",
       "  <tbody>\n",
       "    <tr>\n",
       "      <th>0</th>\n",
       "      <td>Spain</td>\n",
       "      <td>Herpesviridae</td>\n",
       "      <td>Eptesicus isabellinus Hypsugo savii Myotis alc...</td>\n",
       "      <td>18</td>\n",
       "      <td>ES</td>\n",
       "      <td>ESP</td>\n",
       "    </tr>\n",
       "    <tr>\n",
       "      <th>1</th>\n",
       "      <td>China</td>\n",
       "      <td>Herpesviridae, Poxviridae</td>\n",
       "      <td>Cynopterus sphinx Hipposideros larvatus Hippos...</td>\n",
       "      <td>9</td>\n",
       "      <td>CN</td>\n",
       "      <td>CHN</td>\n",
       "    </tr>\n",
       "    <tr>\n",
       "      <th>2</th>\n",
       "      <td>Peru</td>\n",
       "      <td>Herpesviridae</td>\n",
       "      <td>Artibeus lituratus Desmodus rotundus Diphylla ...</td>\n",
       "      <td>8</td>\n",
       "      <td>PE</td>\n",
       "      <td>PER</td>\n",
       "    </tr>\n",
       "    <tr>\n",
       "      <th>3</th>\n",
       "      <td>Uruguay</td>\n",
       "      <td>Herpesviridae</td>\n",
       "      <td>Eptesicus diminutus Eptesicus furinalis Moloss...</td>\n",
       "      <td>7</td>\n",
       "      <td>UY</td>\n",
       "      <td>URY</td>\n",
       "    </tr>\n",
       "    <tr>\n",
       "      <th>4</th>\n",
       "      <td>French Guiana</td>\n",
       "      <td>Herpesviridae</td>\n",
       "      <td>Anoura geoffroyi Carollia perspicillata Diaemu...</td>\n",
       "      <td>7</td>\n",
       "      <td>GF</td>\n",
       "      <td>GUF</td>\n",
       "    </tr>\n",
       "    <tr>\n",
       "      <th>5</th>\n",
       "      <td>Germany</td>\n",
       "      <td>Herpesviridae</td>\n",
       "      <td>Eptesicus serotinus Myotis nattereri Nyctalus ...</td>\n",
       "      <td>6</td>\n",
       "      <td>DE</td>\n",
       "      <td>DEU</td>\n",
       "    </tr>\n",
       "    <tr>\n",
       "      <th>6</th>\n",
       "      <td>United States</td>\n",
       "      <td>Herpesviridae, Poxviridae</td>\n",
       "      <td>Eptesicus fuscus Eptesicus fuscus Myotis velifer</td>\n",
       "      <td>3</td>\n",
       "      <td>US</td>\n",
       "      <td>USA</td>\n",
       "    </tr>\n",
       "    <tr>\n",
       "      <th>7</th>\n",
       "      <td>South Africa</td>\n",
       "      <td>Herpesviridae</td>\n",
       "      <td>Miniopterus natalensis Neoromicia capensis Neo...</td>\n",
       "      <td>3</td>\n",
       "      <td>ZA</td>\n",
       "      <td>ZAF</td>\n",
       "    </tr>\n",
       "    <tr>\n",
       "      <th>8</th>\n",
       "      <td>Brazil</td>\n",
       "      <td>Herpesviridae</td>\n",
       "      <td>Artibeus planirostris Lonchophylla thomasi</td>\n",
       "      <td>2</td>\n",
       "      <td>BR</td>\n",
       "      <td>BRA</td>\n",
       "    </tr>\n",
       "    <tr>\n",
       "      <th>9</th>\n",
       "      <td>Congo [Republic]</td>\n",
       "      <td>Herpesviridae</td>\n",
       "      <td>Pipistrellus nanulus Triaenops persicus</td>\n",
       "      <td>2</td>\n",
       "      <td>CG</td>\n",
       "      <td>COG</td>\n",
       "    </tr>\n",
       "    <tr>\n",
       "      <th>10</th>\n",
       "      <td>Philippines</td>\n",
       "      <td>Herpesviridae</td>\n",
       "      <td>Hipposideros diadema Ptenochirus jagori</td>\n",
       "      <td>2</td>\n",
       "      <td>PH</td>\n",
       "      <td>PHL</td>\n",
       "    </tr>\n",
       "    <tr>\n",
       "      <th>11</th>\n",
       "      <td>Japan</td>\n",
       "      <td>Herpesviridae</td>\n",
       "      <td>Miniopterus fuliginosus Rhinolophus ferrumequinum</td>\n",
       "      <td>2</td>\n",
       "      <td>JP</td>\n",
       "      <td>JPN</td>\n",
       "    </tr>\n",
       "    <tr>\n",
       "      <th>12</th>\n",
       "      <td>Madagascar</td>\n",
       "      <td>Herpesviridae</td>\n",
       "      <td>Eidolon dupreanum</td>\n",
       "      <td>1</td>\n",
       "      <td>MG</td>\n",
       "      <td>MDG</td>\n",
       "    </tr>\n",
       "    <tr>\n",
       "      <th>13</th>\n",
       "      <td>Martinique</td>\n",
       "      <td>Herpesviridae</td>\n",
       "      <td>Sturnira angeli</td>\n",
       "      <td>1</td>\n",
       "      <td>MQ</td>\n",
       "      <td>MTQ</td>\n",
       "    </tr>\n",
       "    <tr>\n",
       "      <th>14</th>\n",
       "      <td>Malaysia</td>\n",
       "      <td>Herpesviridae</td>\n",
       "      <td>Eonycteris spelaea</td>\n",
       "      <td>1</td>\n",
       "      <td>MY</td>\n",
       "      <td>MYS</td>\n",
       "    </tr>\n",
       "    <tr>\n",
       "      <th>15</th>\n",
       "      <td>Australia</td>\n",
       "      <td>Poxviridae</td>\n",
       "      <td>Pteropus scapulatus</td>\n",
       "      <td>1</td>\n",
       "      <td>AU</td>\n",
       "      <td>AUS</td>\n",
       "    </tr>\n",
       "    <tr>\n",
       "      <th>16</th>\n",
       "      <td>Kenya</td>\n",
       "      <td>Herpesviridae</td>\n",
       "      <td>Triaenops afer</td>\n",
       "      <td>1</td>\n",
       "      <td>KE</td>\n",
       "      <td>KEN</td>\n",
       "    </tr>\n",
       "    <tr>\n",
       "      <th>17</th>\n",
       "      <td>Italy</td>\n",
       "      <td>Poxviridae</td>\n",
       "      <td>Hypsugo savii</td>\n",
       "      <td>1</td>\n",
       "      <td>IT</td>\n",
       "      <td>ITA</td>\n",
       "    </tr>\n",
       "    <tr>\n",
       "      <th>18</th>\n",
       "      <td>Bangladesh</td>\n",
       "      <td>Herpesviridae</td>\n",
       "      <td>Pteropus giganteus</td>\n",
       "      <td>1</td>\n",
       "      <td>BD</td>\n",
       "      <td>BGD</td>\n",
       "    </tr>\n",
       "    <tr>\n",
       "      <th>19</th>\n",
       "      <td>Indonesia</td>\n",
       "      <td>Herpesviridae</td>\n",
       "      <td>Pteropus</td>\n",
       "      <td>1</td>\n",
       "      <td>ID</td>\n",
       "      <td>IDN</td>\n",
       "    </tr>\n",
       "    <tr>\n",
       "      <th>20</th>\n",
       "      <td>Hungary</td>\n",
       "      <td>Herpesviridae</td>\n",
       "      <td>Rousettus aegyptiacus</td>\n",
       "      <td>1</td>\n",
       "      <td>HU</td>\n",
       "      <td>HUN</td>\n",
       "    </tr>\n",
       "    <tr>\n",
       "      <th>21</th>\n",
       "      <td>Ghana</td>\n",
       "      <td>Poxviridae</td>\n",
       "      <td>Eidolon helvum</td>\n",
       "      <td>1</td>\n",
       "      <td>GH</td>\n",
       "      <td>GHA</td>\n",
       "    </tr>\n",
       "    <tr>\n",
       "      <th>22</th>\n",
       "      <td>Cameroon</td>\n",
       "      <td>Herpesviridae</td>\n",
       "      <td>Eidolon helvum</td>\n",
       "      <td>1</td>\n",
       "      <td>CM</td>\n",
       "      <td>CMR</td>\n",
       "    </tr>\n",
       "    <tr>\n",
       "      <th>23</th>\n",
       "      <td>Cambodia</td>\n",
       "      <td>Herpesviridae</td>\n",
       "      <td>Pteropus lylei</td>\n",
       "      <td>1</td>\n",
       "      <td>KH</td>\n",
       "      <td>KHM</td>\n",
       "    </tr>\n",
       "    <tr>\n",
       "      <th>24</th>\n",
       "      <td>Israel</td>\n",
       "      <td>Poxviridae</td>\n",
       "      <td>Rousettus aegyptiacus</td>\n",
       "      <td>1</td>\n",
       "      <td>IL</td>\n",
       "      <td>ISR</td>\n",
       "    </tr>\n",
       "  </tbody>\n",
       "</table>\n",
       "</div>"
      ],
      "text/plain": [
       "             country                  viral_fam  \\\n",
       "0              Spain              Herpesviridae   \n",
       "1              China  Herpesviridae, Poxviridae   \n",
       "2               Peru              Herpesviridae   \n",
       "3            Uruguay              Herpesviridae   \n",
       "4      French Guiana              Herpesviridae   \n",
       "5            Germany              Herpesviridae   \n",
       "6      United States  Herpesviridae, Poxviridae   \n",
       "7       South Africa              Herpesviridae   \n",
       "8             Brazil              Herpesviridae   \n",
       "9   Congo [Republic]              Herpesviridae   \n",
       "10       Philippines              Herpesviridae   \n",
       "11             Japan              Herpesviridae   \n",
       "12        Madagascar              Herpesviridae   \n",
       "13        Martinique              Herpesviridae   \n",
       "14          Malaysia              Herpesviridae   \n",
       "15         Australia                 Poxviridae   \n",
       "16             Kenya              Herpesviridae   \n",
       "17             Italy                 Poxviridae   \n",
       "18        Bangladesh              Herpesviridae   \n",
       "19         Indonesia              Herpesviridae   \n",
       "20           Hungary              Herpesviridae   \n",
       "21             Ghana                 Poxviridae   \n",
       "22          Cameroon              Herpesviridae   \n",
       "23          Cambodia              Herpesviridae   \n",
       "24            Israel                 Poxviridae   \n",
       "\n",
       "                                             all_bats  bat_counts iso_alpha  \\\n",
       "0   Eptesicus isabellinus Hypsugo savii Myotis alc...          18        ES   \n",
       "1   Cynopterus sphinx Hipposideros larvatus Hippos...           9        CN   \n",
       "2   Artibeus lituratus Desmodus rotundus Diphylla ...           8        PE   \n",
       "3   Eptesicus diminutus Eptesicus furinalis Moloss...           7        UY   \n",
       "4   Anoura geoffroyi Carollia perspicillata Diaemu...           7        GF   \n",
       "5   Eptesicus serotinus Myotis nattereri Nyctalus ...           6        DE   \n",
       "6    Eptesicus fuscus Eptesicus fuscus Myotis velifer           3        US   \n",
       "7   Miniopterus natalensis Neoromicia capensis Neo...           3        ZA   \n",
       "8          Artibeus planirostris Lonchophylla thomasi           2        BR   \n",
       "9             Pipistrellus nanulus Triaenops persicus           2        CG   \n",
       "10            Hipposideros diadema Ptenochirus jagori           2        PH   \n",
       "11  Miniopterus fuliginosus Rhinolophus ferrumequinum           2        JP   \n",
       "12                                  Eidolon dupreanum           1        MG   \n",
       "13                                    Sturnira angeli           1        MQ   \n",
       "14                                 Eonycteris spelaea           1        MY   \n",
       "15                                Pteropus scapulatus           1        AU   \n",
       "16                                     Triaenops afer           1        KE   \n",
       "17                                      Hypsugo savii           1        IT   \n",
       "18                                 Pteropus giganteus           1        BD   \n",
       "19                                           Pteropus           1        ID   \n",
       "20                              Rousettus aegyptiacus           1        HU   \n",
       "21                                     Eidolon helvum           1        GH   \n",
       "22                                     Eidolon helvum           1        CM   \n",
       "23                                     Pteropus lylei           1        KH   \n",
       "24                              Rousettus aegyptiacus           1        IL   \n",
       "\n",
       "   alpha_iso3  \n",
       "0         ESP  \n",
       "1         CHN  \n",
       "2         PER  \n",
       "3         URY  \n",
       "4         GUF  \n",
       "5         DEU  \n",
       "6         USA  \n",
       "7         ZAF  \n",
       "8         BRA  \n",
       "9         COG  \n",
       "10        PHL  \n",
       "11        JPN  \n",
       "12        MDG  \n",
       "13        MTQ  \n",
       "14        MYS  \n",
       "15        AUS  \n",
       "16        KEN  \n",
       "17        ITA  \n",
       "18        BGD  \n",
       "19        IDN  \n",
       "20        HUN  \n",
       "21        GHA  \n",
       "22        CMR  \n",
       "23        KHM  \n",
       "24        ISR  "
      ]
     },
     "execution_count": 5,
     "metadata": {},
     "output_type": "execute_result"
    }
   ],
   "source": [
    "found_viral_fam = identified_virus_df[\"family\"].unique().tolist()\n",
    "associated_bats_df = dbat_vir_df.loc[dbat_vir_df[\"Viral family\"].isin(found_viral_fam)]\n",
    "\n",
    "# removing any duplicates\n",
    "group = associated_bats_df.groupby(\"From Bat\")\n",
    "\n",
    "list_dfs = []\n",
    "for name, df in group:\n",
    "    new_df = df.drop_duplicates(subset=[\"Viral family\", \"From Bat\"])\n",
    "    list_dfs.append(new_df)\n",
    "\n",
    "associated_bats_df = pd.concat(list_dfs)\n",
    "associated_bats_df[\"Sampling country\"].unique()\n",
    "\n",
    "\n",
    "# grouping by country and condensing data \n",
    "country_group = associated_bats_df.groupby(\"Sampling country\")\n",
    "bat_country_data = []\n",
    "for name, df in country_group:\n",
    "    \n",
    "    if \"congo\" in name.lower():\n",
    "        name = \"Congo [Republic]\"\n",
    "    elif \"united states of america\" in name.lower():\n",
    "        name = \"United States\"\n",
    "    \n",
    "    all_bats_str = \" \".join(df[\"From Bat\"].tolist())\n",
    "    counts = len(df[\"From Bat\"].tolist())\n",
    "    viral_fam = \", \".join(df[\"Viral family\"].unique().tolist())\n",
    "    result = [name, viral_fam, all_bats_str, counts]\n",
    "\n",
    "    bat_country_data.append(result)\n",
    "\n",
    "# constructing dataframe\n",
    "all_bats_country_df = pd.DataFrame(data=bat_country_data, columns=[\"country\", \"viral_fam\", \"all_bats\", \"bat_counts\"])\n",
    "all_bats_country_df = all_bats_country_df.sort_values(by=\"bat_counts\", ascending=False)\n",
    "\n",
    "# augmenting all identified bats with location data\n",
    "alpha_iso_codes = iso_codes_df[[\"iso_alpha\", \"alpha_iso3\"]]\n",
    "all_bats_country_df = all_bats_country_df.merge(geolocations_df, on=\"country\")\n",
    "all_bats_country_df = all_bats_country_df.merge(alpha_iso_codes, on=\"iso_alpha\")\n",
    "all_bats_country_df.to_csv(\"../results/other_bats_country.csv\", index=False)\n",
    "\n",
    "# profile\n",
    "all_bats_country_df"
   ]
  },
  {
   "cell_type": "markdown",
   "metadata": {},
   "source": [
    "### Constructing a geo-plot map"
   ]
  },
  {
   "cell_type": "code",
   "execution_count": 6,
   "metadata": {},
   "outputs": [
    {
     "data": {
      "application/vnd.plotly.v1+json": {
       "config": {
        "plotlyServerURL": "https://plot.ly"
       },
       "data": [
        {
         "customdata": [
          [
           "Spain",
           "Herpesviridae"
          ],
          [
           "China",
           "Herpesviridae, Poxviridae"
          ],
          [
           "Peru",
           "Herpesviridae"
          ],
          [
           "Uruguay",
           "Herpesviridae"
          ],
          [
           "French Guiana",
           "Herpesviridae"
          ],
          [
           "Germany",
           "Herpesviridae"
          ],
          [
           "United States",
           "Herpesviridae, Poxviridae"
          ],
          [
           "South Africa",
           "Herpesviridae"
          ],
          [
           "Brazil",
           "Herpesviridae"
          ],
          [
           "Congo [Republic]",
           "Herpesviridae"
          ],
          [
           "Philippines",
           "Herpesviridae"
          ],
          [
           "Japan",
           "Herpesviridae"
          ],
          [
           "Madagascar",
           "Herpesviridae"
          ],
          [
           "Martinique",
           "Herpesviridae"
          ],
          [
           "Malaysia",
           "Herpesviridae"
          ],
          [
           "Australia",
           "Poxviridae"
          ],
          [
           "Kenya",
           "Herpesviridae"
          ],
          [
           "Italy",
           "Poxviridae"
          ],
          [
           "Bangladesh",
           "Herpesviridae"
          ],
          [
           "Indonesia",
           "Herpesviridae"
          ],
          [
           "Hungary",
           "Herpesviridae"
          ],
          [
           "Ghana",
           "Poxviridae"
          ],
          [
           "Cameroon",
           "Herpesviridae"
          ],
          [
           "Cambodia",
           "Herpesviridae"
          ],
          [
           "Israel",
           "Poxviridae"
          ]
         ],
         "geo": "geo",
         "hovertemplate": "<b>%{hovertext}</b><br><br>bat_counts=%{marker.color}<br>alpha_iso3=%{location}<br>country=%{customdata[0]}<br>viral_fam=%{customdata[1]}<extra></extra>",
         "hovertext": [
          "Spain",
          "China",
          "Peru",
          "Uruguay",
          "French Guiana",
          "Germany",
          "United States",
          "South Africa",
          "Brazil",
          "Congo [Republic]",
          "Philippines",
          "Japan",
          "Madagascar",
          "Martinique",
          "Malaysia",
          "Australia",
          "Kenya",
          "Italy",
          "Bangladesh",
          "Indonesia",
          "Hungary",
          "Ghana",
          "Cameroon",
          "Cambodia",
          "Israel"
         ],
         "legendgroup": "",
         "locations": [
          "ESP",
          "CHN",
          "PER",
          "URY",
          "GUF",
          "DEU",
          "USA",
          "ZAF",
          "BRA",
          "COG",
          "PHL",
          "JPN",
          "MDG",
          "MTQ",
          "MYS",
          "AUS",
          "KEN",
          "ITA",
          "BGD",
          "IDN",
          "HUN",
          "GHA",
          "CMR",
          "KHM",
          "ISR"
         ],
         "marker": {
          "color": [
           18,
           9,
           8,
           7,
           7,
           6,
           3,
           3,
           2,
           2,
           2,
           2,
           1,
           1,
           1,
           1,
           1,
           1,
           1,
           1,
           1,
           1,
           1,
           1,
           1
          ],
          "coloraxis": "coloraxis",
          "size": [
           18,
           9,
           8,
           7,
           7,
           6,
           3,
           3,
           2,
           2,
           2,
           2,
           1,
           1,
           1,
           1,
           1,
           1,
           1,
           1,
           1,
           1,
           1,
           1,
           1
          ],
          "sizemode": "area",
          "sizeref": 0.045,
          "symbol": "circle"
         },
         "mode": "markers",
         "name": "",
         "showlegend": false,
         "type": "scattergeo"
        }
       ],
       "layout": {
        "coloraxis": {
         "colorbar": {
          "title": {
           "text": "bat_counts"
          }
         },
         "colorscale": [
          [
           0,
           "#0d0887"
          ],
          [
           0.1111111111111111,
           "#46039f"
          ],
          [
           0.2222222222222222,
           "#7201a8"
          ],
          [
           0.3333333333333333,
           "#9c179e"
          ],
          [
           0.4444444444444444,
           "#bd3786"
          ],
          [
           0.5555555555555556,
           "#d8576b"
          ],
          [
           0.6666666666666666,
           "#ed7953"
          ],
          [
           0.7777777777777778,
           "#fb9f3a"
          ],
          [
           0.8888888888888888,
           "#fdca26"
          ],
          [
           1,
           "#f0f921"
          ]
         ]
        },
        "font": {
         "size": 25
        },
        "geo": {
         "center": {},
         "domain": {
          "x": [
           0,
           1
          ],
          "y": [
           0,
           1
          ]
         },
         "projection": {
          "type": "natural earth"
         }
        },
        "height": 1000,
        "legend": {
         "itemsizing": "constant",
         "tracegroupgap": 0
        },
        "margin": {
         "b": 0,
         "l": 30,
         "r": 1,
         "t": 100
        },
        "template": {
         "data": {
          "bar": [
           {
            "error_x": {
             "color": "#2a3f5f"
            },
            "error_y": {
             "color": "#2a3f5f"
            },
            "marker": {
             "line": {
              "color": "#E5ECF6",
              "width": 0.5
             },
             "pattern": {
              "fillmode": "overlay",
              "size": 10,
              "solidity": 0.2
             }
            },
            "type": "bar"
           }
          ],
          "barpolar": [
           {
            "marker": {
             "line": {
              "color": "#E5ECF6",
              "width": 0.5
             },
             "pattern": {
              "fillmode": "overlay",
              "size": 10,
              "solidity": 0.2
             }
            },
            "type": "barpolar"
           }
          ],
          "carpet": [
           {
            "aaxis": {
             "endlinecolor": "#2a3f5f",
             "gridcolor": "white",
             "linecolor": "white",
             "minorgridcolor": "white",
             "startlinecolor": "#2a3f5f"
            },
            "baxis": {
             "endlinecolor": "#2a3f5f",
             "gridcolor": "white",
             "linecolor": "white",
             "minorgridcolor": "white",
             "startlinecolor": "#2a3f5f"
            },
            "type": "carpet"
           }
          ],
          "choropleth": [
           {
            "colorbar": {
             "outlinewidth": 0,
             "ticks": ""
            },
            "type": "choropleth"
           }
          ],
          "contour": [
           {
            "colorbar": {
             "outlinewidth": 0,
             "ticks": ""
            },
            "colorscale": [
             [
              0,
              "#0d0887"
             ],
             [
              0.1111111111111111,
              "#46039f"
             ],
             [
              0.2222222222222222,
              "#7201a8"
             ],
             [
              0.3333333333333333,
              "#9c179e"
             ],
             [
              0.4444444444444444,
              "#bd3786"
             ],
             [
              0.5555555555555556,
              "#d8576b"
             ],
             [
              0.6666666666666666,
              "#ed7953"
             ],
             [
              0.7777777777777778,
              "#fb9f3a"
             ],
             [
              0.8888888888888888,
              "#fdca26"
             ],
             [
              1,
              "#f0f921"
             ]
            ],
            "type": "contour"
           }
          ],
          "contourcarpet": [
           {
            "colorbar": {
             "outlinewidth": 0,
             "ticks": ""
            },
            "type": "contourcarpet"
           }
          ],
          "heatmap": [
           {
            "colorbar": {
             "outlinewidth": 0,
             "ticks": ""
            },
            "colorscale": [
             [
              0,
              "#0d0887"
             ],
             [
              0.1111111111111111,
              "#46039f"
             ],
             [
              0.2222222222222222,
              "#7201a8"
             ],
             [
              0.3333333333333333,
              "#9c179e"
             ],
             [
              0.4444444444444444,
              "#bd3786"
             ],
             [
              0.5555555555555556,
              "#d8576b"
             ],
             [
              0.6666666666666666,
              "#ed7953"
             ],
             [
              0.7777777777777778,
              "#fb9f3a"
             ],
             [
              0.8888888888888888,
              "#fdca26"
             ],
             [
              1,
              "#f0f921"
             ]
            ],
            "type": "heatmap"
           }
          ],
          "heatmapgl": [
           {
            "colorbar": {
             "outlinewidth": 0,
             "ticks": ""
            },
            "colorscale": [
             [
              0,
              "#0d0887"
             ],
             [
              0.1111111111111111,
              "#46039f"
             ],
             [
              0.2222222222222222,
              "#7201a8"
             ],
             [
              0.3333333333333333,
              "#9c179e"
             ],
             [
              0.4444444444444444,
              "#bd3786"
             ],
             [
              0.5555555555555556,
              "#d8576b"
             ],
             [
              0.6666666666666666,
              "#ed7953"
             ],
             [
              0.7777777777777778,
              "#fb9f3a"
             ],
             [
              0.8888888888888888,
              "#fdca26"
             ],
             [
              1,
              "#f0f921"
             ]
            ],
            "type": "heatmapgl"
           }
          ],
          "histogram": [
           {
            "marker": {
             "pattern": {
              "fillmode": "overlay",
              "size": 10,
              "solidity": 0.2
             }
            },
            "type": "histogram"
           }
          ],
          "histogram2d": [
           {
            "colorbar": {
             "outlinewidth": 0,
             "ticks": ""
            },
            "colorscale": [
             [
              0,
              "#0d0887"
             ],
             [
              0.1111111111111111,
              "#46039f"
             ],
             [
              0.2222222222222222,
              "#7201a8"
             ],
             [
              0.3333333333333333,
              "#9c179e"
             ],
             [
              0.4444444444444444,
              "#bd3786"
             ],
             [
              0.5555555555555556,
              "#d8576b"
             ],
             [
              0.6666666666666666,
              "#ed7953"
             ],
             [
              0.7777777777777778,
              "#fb9f3a"
             ],
             [
              0.8888888888888888,
              "#fdca26"
             ],
             [
              1,
              "#f0f921"
             ]
            ],
            "type": "histogram2d"
           }
          ],
          "histogram2dcontour": [
           {
            "colorbar": {
             "outlinewidth": 0,
             "ticks": ""
            },
            "colorscale": [
             [
              0,
              "#0d0887"
             ],
             [
              0.1111111111111111,
              "#46039f"
             ],
             [
              0.2222222222222222,
              "#7201a8"
             ],
             [
              0.3333333333333333,
              "#9c179e"
             ],
             [
              0.4444444444444444,
              "#bd3786"
             ],
             [
              0.5555555555555556,
              "#d8576b"
             ],
             [
              0.6666666666666666,
              "#ed7953"
             ],
             [
              0.7777777777777778,
              "#fb9f3a"
             ],
             [
              0.8888888888888888,
              "#fdca26"
             ],
             [
              1,
              "#f0f921"
             ]
            ],
            "type": "histogram2dcontour"
           }
          ],
          "mesh3d": [
           {
            "colorbar": {
             "outlinewidth": 0,
             "ticks": ""
            },
            "type": "mesh3d"
           }
          ],
          "parcoords": [
           {
            "line": {
             "colorbar": {
              "outlinewidth": 0,
              "ticks": ""
             }
            },
            "type": "parcoords"
           }
          ],
          "pie": [
           {
            "automargin": true,
            "type": "pie"
           }
          ],
          "scatter": [
           {
            "fillpattern": {
             "fillmode": "overlay",
             "size": 10,
             "solidity": 0.2
            },
            "type": "scatter"
           }
          ],
          "scatter3d": [
           {
            "line": {
             "colorbar": {
              "outlinewidth": 0,
              "ticks": ""
             }
            },
            "marker": {
             "colorbar": {
              "outlinewidth": 0,
              "ticks": ""
             }
            },
            "type": "scatter3d"
           }
          ],
          "scattercarpet": [
           {
            "marker": {
             "colorbar": {
              "outlinewidth": 0,
              "ticks": ""
             }
            },
            "type": "scattercarpet"
           }
          ],
          "scattergeo": [
           {
            "marker": {
             "colorbar": {
              "outlinewidth": 0,
              "ticks": ""
             }
            },
            "type": "scattergeo"
           }
          ],
          "scattergl": [
           {
            "marker": {
             "colorbar": {
              "outlinewidth": 0,
              "ticks": ""
             }
            },
            "type": "scattergl"
           }
          ],
          "scattermapbox": [
           {
            "marker": {
             "colorbar": {
              "outlinewidth": 0,
              "ticks": ""
             }
            },
            "type": "scattermapbox"
           }
          ],
          "scatterpolar": [
           {
            "marker": {
             "colorbar": {
              "outlinewidth": 0,
              "ticks": ""
             }
            },
            "type": "scatterpolar"
           }
          ],
          "scatterpolargl": [
           {
            "marker": {
             "colorbar": {
              "outlinewidth": 0,
              "ticks": ""
             }
            },
            "type": "scatterpolargl"
           }
          ],
          "scatterternary": [
           {
            "marker": {
             "colorbar": {
              "outlinewidth": 0,
              "ticks": ""
             }
            },
            "type": "scatterternary"
           }
          ],
          "surface": [
           {
            "colorbar": {
             "outlinewidth": 0,
             "ticks": ""
            },
            "colorscale": [
             [
              0,
              "#0d0887"
             ],
             [
              0.1111111111111111,
              "#46039f"
             ],
             [
              0.2222222222222222,
              "#7201a8"
             ],
             [
              0.3333333333333333,
              "#9c179e"
             ],
             [
              0.4444444444444444,
              "#bd3786"
             ],
             [
              0.5555555555555556,
              "#d8576b"
             ],
             [
              0.6666666666666666,
              "#ed7953"
             ],
             [
              0.7777777777777778,
              "#fb9f3a"
             ],
             [
              0.8888888888888888,
              "#fdca26"
             ],
             [
              1,
              "#f0f921"
             ]
            ],
            "type": "surface"
           }
          ],
          "table": [
           {
            "cells": {
             "fill": {
              "color": "#EBF0F8"
             },
             "line": {
              "color": "white"
             }
            },
            "header": {
             "fill": {
              "color": "#C8D4E3"
             },
             "line": {
              "color": "white"
             }
            },
            "type": "table"
           }
          ]
         },
         "layout": {
          "annotationdefaults": {
           "arrowcolor": "#2a3f5f",
           "arrowhead": 0,
           "arrowwidth": 1
          },
          "autotypenumbers": "strict",
          "coloraxis": {
           "colorbar": {
            "outlinewidth": 0,
            "ticks": ""
           }
          },
          "colorscale": {
           "diverging": [
            [
             0,
             "#8e0152"
            ],
            [
             0.1,
             "#c51b7d"
            ],
            [
             0.2,
             "#de77ae"
            ],
            [
             0.3,
             "#f1b6da"
            ],
            [
             0.4,
             "#fde0ef"
            ],
            [
             0.5,
             "#f7f7f7"
            ],
            [
             0.6,
             "#e6f5d0"
            ],
            [
             0.7,
             "#b8e186"
            ],
            [
             0.8,
             "#7fbc41"
            ],
            [
             0.9,
             "#4d9221"
            ],
            [
             1,
             "#276419"
            ]
           ],
           "sequential": [
            [
             0,
             "#0d0887"
            ],
            [
             0.1111111111111111,
             "#46039f"
            ],
            [
             0.2222222222222222,
             "#7201a8"
            ],
            [
             0.3333333333333333,
             "#9c179e"
            ],
            [
             0.4444444444444444,
             "#bd3786"
            ],
            [
             0.5555555555555556,
             "#d8576b"
            ],
            [
             0.6666666666666666,
             "#ed7953"
            ],
            [
             0.7777777777777778,
             "#fb9f3a"
            ],
            [
             0.8888888888888888,
             "#fdca26"
            ],
            [
             1,
             "#f0f921"
            ]
           ],
           "sequentialminus": [
            [
             0,
             "#0d0887"
            ],
            [
             0.1111111111111111,
             "#46039f"
            ],
            [
             0.2222222222222222,
             "#7201a8"
            ],
            [
             0.3333333333333333,
             "#9c179e"
            ],
            [
             0.4444444444444444,
             "#bd3786"
            ],
            [
             0.5555555555555556,
             "#d8576b"
            ],
            [
             0.6666666666666666,
             "#ed7953"
            ],
            [
             0.7777777777777778,
             "#fb9f3a"
            ],
            [
             0.8888888888888888,
             "#fdca26"
            ],
            [
             1,
             "#f0f921"
            ]
           ]
          },
          "colorway": [
           "#636efa",
           "#EF553B",
           "#00cc96",
           "#ab63fa",
           "#FFA15A",
           "#19d3f3",
           "#FF6692",
           "#B6E880",
           "#FF97FF",
           "#FECB52"
          ],
          "font": {
           "color": "#2a3f5f"
          },
          "geo": {
           "bgcolor": "white",
           "lakecolor": "white",
           "landcolor": "#E5ECF6",
           "showlakes": true,
           "showland": true,
           "subunitcolor": "white"
          },
          "hoverlabel": {
           "align": "left"
          },
          "hovermode": "closest",
          "mapbox": {
           "style": "light"
          },
          "paper_bgcolor": "white",
          "plot_bgcolor": "#E5ECF6",
          "polar": {
           "angularaxis": {
            "gridcolor": "white",
            "linecolor": "white",
            "ticks": ""
           },
           "bgcolor": "#E5ECF6",
           "radialaxis": {
            "gridcolor": "white",
            "linecolor": "white",
            "ticks": ""
           }
          },
          "scene": {
           "xaxis": {
            "backgroundcolor": "#E5ECF6",
            "gridcolor": "white",
            "gridwidth": 2,
            "linecolor": "white",
            "showbackground": true,
            "ticks": "",
            "zerolinecolor": "white"
           },
           "yaxis": {
            "backgroundcolor": "#E5ECF6",
            "gridcolor": "white",
            "gridwidth": 2,
            "linecolor": "white",
            "showbackground": true,
            "ticks": "",
            "zerolinecolor": "white"
           },
           "zaxis": {
            "backgroundcolor": "#E5ECF6",
            "gridcolor": "white",
            "gridwidth": 2,
            "linecolor": "white",
            "showbackground": true,
            "ticks": "",
            "zerolinecolor": "white"
           }
          },
          "shapedefaults": {
           "line": {
            "color": "#2a3f5f"
           }
          },
          "ternary": {
           "aaxis": {
            "gridcolor": "white",
            "linecolor": "white",
            "ticks": ""
           },
           "baxis": {
            "gridcolor": "white",
            "linecolor": "white",
            "ticks": ""
           },
           "bgcolor": "#E5ECF6",
           "caxis": {
            "gridcolor": "white",
            "linecolor": "white",
            "ticks": ""
           }
          },
          "title": {
           "x": 0.05
          },
          "xaxis": {
           "automargin": true,
           "gridcolor": "white",
           "linecolor": "white",
           "ticks": "",
           "title": {
            "standoff": 15
           },
           "zerolinecolor": "white",
           "zerolinewidth": 2
          },
          "yaxis": {
           "automargin": true,
           "gridcolor": "white",
           "linecolor": "white",
           "ticks": "",
           "title": {
            "standoff": 15
           },
           "zerolinecolor": "white",
           "zerolinewidth": 2
          }
         }
        },
        "title": {
         "text": "Identified Bat's Viral Family strains and Location"
        }
       }
      }
     },
     "metadata": {},
     "output_type": "display_data"
    }
   ],
   "source": [
    "# color=\"continent\"\n",
    "fig = px.scatter_geo(all_bats_country_df, locations=\"alpha_iso3\" , color=\"bat_counts\",\n",
    "                     title=\"Identified Bat's Viral Family strains and Location\",\n",
    "                     hover_name=\"country\", size=\"bat_counts\",\n",
    "                     projection=\"natural earth\", hover_data=[all_bats_country_df[\"country\"], all_bats_country_df[\"viral_fam\"]])\n",
    "\n",
    "fig.update_layout(height=1000, margin={\"r\":1,\"t\":100,\"l\":30,\"b\":0}, font=dict(size=25))\n",
    "\n",
    "fig.show()\n",
    "\n",
    "# saving as interactive plot\n",
    "fig.write_html(\"../results/interactive_geo_plot.html\")\n",
    "\n",
    "# saving original plot\n",
    "with open(\"../results/geo_plot.png\", \"wb\") as outfile:\n",
    "    img_bytes = fig.to_image(format=\"png\", engine=\"kaleido\")\n",
    "    outfile.write(img_bytes)\n",
    "\n"
   ]
  },
  {
   "cell_type": "markdown",
   "metadata": {},
   "source": [
    "### Associated diseases profile\n",
    "Here is a table figures of the associated diseases with the found viral strains in the meta-genome sample"
   ]
  },
  {
   "cell_type": "code",
   "execution_count": 7,
   "metadata": {},
   "outputs": [
    {
     "data": {
      "text/html": [
       "<div>\n",
       "<style scoped>\n",
       "    .dataframe tbody tr th:only-of-type {\n",
       "        vertical-align: middle;\n",
       "    }\n",
       "\n",
       "    .dataframe tbody tr th {\n",
       "        vertical-align: top;\n",
       "    }\n",
       "\n",
       "    .dataframe thead th {\n",
       "        text-align: right;\n",
       "    }\n",
       "</style>\n",
       "<table border=\"1\" class=\"dataframe\">\n",
       "  <thead>\n",
       "    <tr style=\"text-align: right;\">\n",
       "      <th></th>\n",
       "      <th>accession</th>\n",
       "      <th>host</th>\n",
       "      <th>disease_doc</th>\n",
       "      <th>segment_name</th>\n",
       "      <th>family</th>\n",
       "      <th>genus</th>\n",
       "      <th>taxon_id</th>\n",
       "      <th>rel_abundance</th>\n",
       "    </tr>\n",
       "  </thead>\n",
       "  <tbody>\n",
       "    <tr>\n",
       "      <th>4</th>\n",
       "      <td>NC_006273</td>\n",
       "      <td>human</td>\n",
       "      <td>Human herpesvirus 5</td>\n",
       "      <td>segment</td>\n",
       "      <td>Herpesviridae</td>\n",
       "      <td>Cytomegalovirus</td>\n",
       "      <td>10359</td>\n",
       "      <td>68.58</td>\n",
       "    </tr>\n",
       "    <tr>\n",
       "      <th>2</th>\n",
       "      <td>NC_001664</td>\n",
       "      <td>human</td>\n",
       "      <td>Human herpesvirus 6A</td>\n",
       "      <td>segment</td>\n",
       "      <td>Herpesviridae</td>\n",
       "      <td>Roseolovirus</td>\n",
       "      <td>32603</td>\n",
       "      <td>6.47</td>\n",
       "    </tr>\n",
       "    <tr>\n",
       "      <th>0</th>\n",
       "      <td>NC_001348</td>\n",
       "      <td>human</td>\n",
       "      <td>Human alphaherpesvirus 3</td>\n",
       "      <td>segment</td>\n",
       "      <td>Herpesviridae</td>\n",
       "      <td>Varicellovirus</td>\n",
       "      <td>10335</td>\n",
       "      <td>5.56</td>\n",
       "    </tr>\n",
       "    <tr>\n",
       "      <th>5</th>\n",
       "      <td>NC_035469</td>\n",
       "      <td>human</td>\n",
       "      <td>NY_014 poxvirus</td>\n",
       "      <td>segment</td>\n",
       "      <td>Poxviridae</td>\n",
       "      <td>Centapoxvirus</td>\n",
       "      <td>2025360</td>\n",
       "      <td>2.97</td>\n",
       "    </tr>\n",
       "    <tr>\n",
       "      <th>1</th>\n",
       "      <td>NC_001611</td>\n",
       "      <td>human</td>\n",
       "      <td>Variola virus</td>\n",
       "      <td>segment</td>\n",
       "      <td>Poxviridae</td>\n",
       "      <td>Orthopoxvirus</td>\n",
       "      <td>10255</td>\n",
       "      <td>2.37</td>\n",
       "    </tr>\n",
       "    <tr>\n",
       "      <th>3</th>\n",
       "      <td>NC_001716</td>\n",
       "      <td>human</td>\n",
       "      <td>Human herpesvirus 7</td>\n",
       "      <td>segment</td>\n",
       "      <td>Herpesviridae</td>\n",
       "      <td>Roseolovirus</td>\n",
       "      <td>10372</td>\n",
       "      <td>2.07</td>\n",
       "    </tr>\n",
       "  </tbody>\n",
       "</table>\n",
       "</div>"
      ],
      "text/plain": [
       "   accession   host               disease_doc segment_name         family  \\\n",
       "4  NC_006273  human       Human herpesvirus 5      segment  Herpesviridae   \n",
       "2  NC_001664  human      Human herpesvirus 6A      segment  Herpesviridae   \n",
       "0  NC_001348  human  Human alphaherpesvirus 3      segment  Herpesviridae   \n",
       "5  NC_035469  human           NY_014 poxvirus      segment     Poxviridae   \n",
       "1  NC_001611  human             Variola virus      segment     Poxviridae   \n",
       "3  NC_001716  human       Human herpesvirus 7      segment  Herpesviridae   \n",
       "\n",
       "             genus  taxon_id  rel_abundance  \n",
       "4  Cytomegalovirus     10359          68.58  \n",
       "2     Roseolovirus     32603           6.47  \n",
       "0   Varicellovirus     10335           5.56  \n",
       "5    Centapoxvirus   2025360           2.97  \n",
       "1    Orthopoxvirus     10255           2.37  \n",
       "3     Roseolovirus     10372           2.07  "
      ]
     },
     "execution_count": 7,
     "metadata": {},
     "output_type": "execute_result"
    }
   ],
   "source": [
    "ident_viral_acc = identified_virus_df.index.tolist()\n",
    "viral_info = ncbi_virus_data.loc[ncbi_virus_data[\"Representative\"].isin(ident_viral_acc)]\n",
    "viral_info.columns = [\"accession\"] + viral_info.columns.values.tolist()[1:]\n",
    "\n",
    "# merging relative counts and relative abundance \n",
    "viral_counts_df = identified_virus_df.reset_index()[[\"accession\", \"rel_abundance\"]]\n",
    "viral_summary_df = viral_info.merge(viral_counts_df, on=\"accession\").sort_values(\"rel_abundance\", ascending=False)\n",
    "viral_summary_df.columns = ['accession', 'host', 'disease_doc', 'segment_name', 'family', 'genus', 'taxon_id', 'rel_abundance']\n",
    "\n",
    "# profile \n",
    "viral_summary_df\n"
   ]
  },
  {
   "cell_type": "markdown",
   "metadata": {},
   "source": [
    "### Generate interaction profile\n",
    "Creating a profile that shows the protein protein interactions that occurs with these viruses"
   ]
  },
  {
   "cell_type": "code",
   "execution_count": 8,
   "metadata": {},
   "outputs": [
    {
     "data": {
      "text/html": [
       "<div>\n",
       "<style scoped>\n",
       "    .dataframe tbody tr th:only-of-type {\n",
       "        vertical-align: middle;\n",
       "    }\n",
       "\n",
       "    .dataframe tbody tr th {\n",
       "        vertical-align: top;\n",
       "    }\n",
       "\n",
       "    .dataframe thead th {\n",
       "        text-align: right;\n",
       "    }\n",
       "</style>\n",
       "<table border=\"1\" class=\"dataframe\">\n",
       "  <thead>\n",
       "    <tr style=\"text-align: right;\">\n",
       "      <th></th>\n",
       "      <th>species_1</th>\n",
       "      <th>protein_1</th>\n",
       "      <th>species_2</th>\n",
       "      <th>protein_2</th>\n",
       "      <th>score</th>\n",
       "      <th>annotation</th>\n",
       "    </tr>\n",
       "  </thead>\n",
       "  <tbody>\n",
       "    <tr>\n",
       "      <th>0</th>\n",
       "      <td>9606</td>\n",
       "      <td>ENSP00000000233</td>\n",
       "      <td>10335</td>\n",
       "      <td>NP04_VZVD</td>\n",
       "      <td>437</td>\n",
       "      <td>Varicella-zoster virus (strain Dumas)</td>\n",
       "    </tr>\n",
       "    <tr>\n",
       "      <th>1</th>\n",
       "      <td>9606</td>\n",
       "      <td>ENSP00000000233</td>\n",
       "      <td>10255</td>\n",
       "      <td>F11_VAR67</td>\n",
       "      <td>188</td>\n",
       "      <td>Variola virus (isolate Human/India/Ind3/1967)</td>\n",
       "    </tr>\n",
       "    <tr>\n",
       "      <th>2</th>\n",
       "      <td>9606</td>\n",
       "      <td>ENSP00000000233</td>\n",
       "      <td>10335</td>\n",
       "      <td>GM_VZVD</td>\n",
       "      <td>336</td>\n",
       "      <td>Varicella-zoster virus (strain Dumas)</td>\n",
       "    </tr>\n",
       "    <tr>\n",
       "      <th>3</th>\n",
       "      <td>9606</td>\n",
       "      <td>ENSP00000000233</td>\n",
       "      <td>32603</td>\n",
       "      <td>GM_HHV6U</td>\n",
       "      <td>336</td>\n",
       "      <td>Human herpesvirus 6A (strain Uganda-1102)</td>\n",
       "    </tr>\n",
       "    <tr>\n",
       "      <th>4</th>\n",
       "      <td>9606</td>\n",
       "      <td>ENSP00000000233</td>\n",
       "      <td>10359</td>\n",
       "      <td>GM_HCMVM</td>\n",
       "      <td>336</td>\n",
       "      <td>Human cytomegalovirus (strain Merlin)</td>\n",
       "    </tr>\n",
       "    <tr>\n",
       "      <th>...</th>\n",
       "      <td>...</td>\n",
       "      <td>...</td>\n",
       "      <td>...</td>\n",
       "      <td>...</td>\n",
       "      <td>...</td>\n",
       "      <td>...</td>\n",
       "    </tr>\n",
       "    <tr>\n",
       "      <th>19048</th>\n",
       "      <td>9606</td>\n",
       "      <td>ENSP00000473166</td>\n",
       "      <td>10335</td>\n",
       "      <td>GB_VZVD</td>\n",
       "      <td>227</td>\n",
       "      <td>Varicella-zoster virus (strain Dumas)</td>\n",
       "    </tr>\n",
       "    <tr>\n",
       "      <th>19049</th>\n",
       "      <td>9606</td>\n",
       "      <td>ENSP00000473172</td>\n",
       "      <td>10359</td>\n",
       "      <td>UL27_HCMVM</td>\n",
       "      <td>435</td>\n",
       "      <td>Human cytomegalovirus (strain Merlin)</td>\n",
       "    </tr>\n",
       "    <tr>\n",
       "      <th>19050</th>\n",
       "      <td>9606</td>\n",
       "      <td>ENSP00000473243</td>\n",
       "      <td>32603</td>\n",
       "      <td>GB_HHV6U</td>\n",
       "      <td>227</td>\n",
       "      <td>Human herpesvirus 6A (strain Uganda-1102)</td>\n",
       "    </tr>\n",
       "    <tr>\n",
       "      <th>19051</th>\n",
       "      <td>9606</td>\n",
       "      <td>ENSP00000473243</td>\n",
       "      <td>10335</td>\n",
       "      <td>GB_VZVD</td>\n",
       "      <td>227</td>\n",
       "      <td>Varicella-zoster virus (strain Dumas)</td>\n",
       "    </tr>\n",
       "    <tr>\n",
       "      <th>19052</th>\n",
       "      <td>9606</td>\n",
       "      <td>ENSP00000473243</td>\n",
       "      <td>10359</td>\n",
       "      <td>GB_HCMVM</td>\n",
       "      <td>227</td>\n",
       "      <td>Human cytomegalovirus (strain Merlin)</td>\n",
       "    </tr>\n",
       "  </tbody>\n",
       "</table>\n",
       "<p>17964 rows × 6 columns</p>\n",
       "</div>"
      ],
      "text/plain": [
       "       species_1        protein_1  species_2   protein_2  score  \\\n",
       "0           9606  ENSP00000000233      10335   NP04_VZVD    437   \n",
       "1           9606  ENSP00000000233      10255   F11_VAR67    188   \n",
       "2           9606  ENSP00000000233      10335     GM_VZVD    336   \n",
       "3           9606  ENSP00000000233      32603    GM_HHV6U    336   \n",
       "4           9606  ENSP00000000233      10359    GM_HCMVM    336   \n",
       "...          ...              ...        ...         ...    ...   \n",
       "19048       9606  ENSP00000473166      10335     GB_VZVD    227   \n",
       "19049       9606  ENSP00000473172      10359  UL27_HCMVM    435   \n",
       "19050       9606  ENSP00000473243      32603    GB_HHV6U    227   \n",
       "19051       9606  ENSP00000473243      10335     GB_VZVD    227   \n",
       "19052       9606  ENSP00000473243      10359    GB_HCMVM    227   \n",
       "\n",
       "                                          annotation  \n",
       "0              Varicella-zoster virus (strain Dumas)  \n",
       "1      Variola virus (isolate Human/India/Ind3/1967)  \n",
       "2              Varicella-zoster virus (strain Dumas)  \n",
       "3          Human herpesvirus 6A (strain Uganda-1102)  \n",
       "4              Human cytomegalovirus (strain Merlin)  \n",
       "...                                              ...  \n",
       "19048          Varicella-zoster virus (strain Dumas)  \n",
       "19049          Human cytomegalovirus (strain Merlin)  \n",
       "19050      Human herpesvirus 6A (strain Uganda-1102)  \n",
       "19051          Varicella-zoster virus (strain Dumas)  \n",
       "19052          Human cytomegalovirus (strain Merlin)  \n",
       "\n",
       "[17964 rows x 6 columns]"
      ]
     },
     "execution_count": 8,
     "metadata": {},
     "output_type": "execute_result"
    }
   ],
   "source": [
    "# loading curated string_db data\n",
    "ppi_df = vloader.load_human_ppi()\n",
    "\n",
    "# then filter the ppi data with the taxon id found in the viral_summary df\n",
    "found_virus_taxon_id = viral_summary_df[\"taxon_id\"].unique().tolist()\n",
    "ppi_df = ppi_df.loc[ppi_df[\"species_2\"].isin(found_virus_taxon_id)]\n",
    "\n",
    "# profile (NOTE: not all viruses wil have documented networks)\n",
    "ppi_df"
   ]
  },
  {
   "cell_type": "markdown",
   "metadata": {},
   "source": [
    "### Generate a network plot\n",
    "This will output interactions profiles in SIF format. This can be uploaded to network visualization programs like \n",
    "cytoscape"
   ]
  },
  {
   "cell_type": "code",
   "execution_count": 9,
   "metadata": {},
   "outputs": [],
   "source": [
    "save_interaction_profiles(ppi_df)"
   ]
  },
  {
   "cell_type": "code",
   "execution_count": 10,
   "metadata": {},
   "outputs": [],
   "source": [
    "from pathlib import Path"
   ]
  },
  {
   "cell_type": "code",
   "execution_count": 12,
   "metadata": {},
   "outputs": [
    {
     "data": {
      "text/plain": [
       "'file:///Users/erikserrano/Development/prelim/prelim3/VSeek/analysis/../results/geo_plot.html'"
      ]
     },
     "execution_count": 12,
     "metadata": {},
     "output_type": "execute_result"
    }
   ],
   "source": [
    "html_file = Path.cwd() / \"./results/geo_plot.html\"\n",
    "html_file.as_uri()"
   ]
  },
  {
   "cell_type": "code",
   "execution_count": null,
   "metadata": {},
   "outputs": [],
   "source": []
  }
 ],
 "metadata": {
  "kernelspec": {
   "display_name": "Python 3.10.5 ('VSeek')",
   "language": "python",
   "name": "python3"
  },
  "language_info": {
   "codemirror_mode": {
    "name": "ipython",
    "version": 3
   },
   "file_extension": ".py",
   "mimetype": "text/x-python",
   "name": "python",
   "nbconvert_exporter": "python",
   "pygments_lexer": "ipython3",
   "version": "3.10.5"
  },
  "orig_nbformat": 4,
  "vscode": {
   "interpreter": {
    "hash": "70cfca0adae6be6172ca3156d4c2b8dd3fe10450420e228861d3bfe418975f4b"
   }
  }
 },
 "nbformat": 4,
 "nbformat_minor": 2
}
