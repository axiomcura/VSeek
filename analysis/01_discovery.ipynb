{
 "cells": [
  {
   "cell_type": "code",
   "execution_count": 7,
   "metadata": {},
   "outputs": [],
   "source": [
    "import sys\n",
    "import json\n",
    "from collections import defaultdict\n",
    "import numpy as np\n",
    "\n",
    "# vseek imports\n",
    "sys.path.append(\"../\")\n",
    "import vseek.common.vseek_paths as vsp\n",
    "from vseek.common.loader import load_genes_metadata, load_genome, load_viral_genes\n",
    "from vseek.utils.sequence_io import SequenceIO\n",
    "from vseek.utils.sra_callers import download_fasta\n",
    "from vseek.common.io_files import get_viral_genome_fasta_paths, get_genome_genes_paths, get_meta_genomes_paths\n",
    "from vseek.utils.vseek_analysis import dynamic_hamming\n"
   ]
  },
  {
   "cell_type": "code",
   "execution_count": 3,
   "metadata": {},
   "outputs": [],
   "source": [
    "# loading all datasets \n",
    "viral_genome_paths = get_viral_genome_fasta_paths()\n",
    "viral_genes_paths = get_genome_genes_paths()\n",
    "all_accessions = list(viral_genome_paths.keys())"
   ]
  },
  {
   "cell_type": "code",
   "execution_count": 4,
   "metadata": {},
   "outputs": [
    {
     "name": "stdout",
     "output_type": "stream",
     "text": [
      "Prefetching SRR12464727 data...\n",
      "Downloading fasta files\n",
      "SRR12464727.fasta already exists... skipping\n"
     ]
    },
    {
     "data": {
      "text/plain": [
       "'/Users/erikserrano/Development/prelim/prelim3/VSeek/results/fasta_files'"
      ]
     },
     "execution_count": 4,
     "metadata": {},
     "output_type": "execute_result"
    }
   ],
   "source": [
    "# downloading metagenome files \n",
    "srr_id = \"SRR12464727\"\n",
    "download_fasta(srr_id)"
   ]
  },
  {
   "cell_type": "code",
   "execution_count": 3,
   "metadata": {},
   "outputs": [],
   "source": [
    "# since it is one file, it is returning a str \n",
    "# if it is multiple files, it will return a list\n",
    "metagenome_path = get_meta_genomes_paths()\n",
    "reader = SequenceIO(metagenome_path)"
   ]
  },
  {
   "cell_type": "code",
   "execution_count": 9,
   "metadata": {},
   "outputs": [],
   "source": [
    "# parameters \n",
    "all_accessions = list(viral_genome_paths.keys())\n",
    "metagenome_path = get_meta_genomes_paths()\n",
    "reader = SequenceIO(metagenome_path)\n",
    "reads = reader.lazy_load_fasta()\n",
    "threshold=0.33\n",
    "\n",
    "counts = defaultdict(lambda: 0)\n",
    "for idx, read in enumerate(reads):\n",
    "    if idx == 5:\n",
    "        break\n",
    "\n",
    "    for acc_id in all_accessions[:10]:\n",
    "        # load all the gene sequences\n",
    "        gene_sequences = load_viral_genes(acc_id)\n",
    "\n",
    "        top_score = 0.0\n",
    "        for gene in gene_sequences:\n",
    "            score = dynamic_hamming(read=read.sequence, reference=gene)\n",
    "            if score >= threshold:\n",
    "                if score == 1:\n",
    "                    top_score = score\n",
    "                    break\n",
    "                elif score > top_score: \n",
    "                    top_score = score\n",
    "\n",
    "\n",
    "        if top_score == 1:\n",
    "            counts[acc_id] += 1 \n",
    "            break \n",
    "\n",
    "        # if perfect match, find the highest score\n",
    "        if top_score >= threshold:\n",
    "            counts[acc_id] += 1 \n",
    "\n",
    "with open(\"./viral_composition_counts.json\", \"w\") as outfile:\n",
    "    json.dump(counts, outfile)"
   ]
  },
  {
   "cell_type": "code",
   "execution_count": 8,
   "metadata": {},
   "outputs": [],
   "source": []
  },
  {
   "cell_type": "code",
   "execution_count": null,
   "metadata": {},
   "outputs": [],
   "source": []
  }
 ],
 "metadata": {
  "kernelspec": {
   "display_name": "Python 3.10.4 ('prelim3')",
   "language": "python",
   "name": "python3"
  },
  "language_info": {
   "codemirror_mode": {
    "name": "ipython",
    "version": 3
   },
   "file_extension": ".py",
   "mimetype": "text/x-python",
   "name": "python",
   "nbconvert_exporter": "python",
   "pygments_lexer": "ipython3",
   "version": "3.10.4"
  },
  "orig_nbformat": 4,
  "vscode": {
   "interpreter": {
    "hash": "ed0af199d6dc1a90b033fbf6c9cd96d706dd6966901a1660a1f15156e5b00f0b"
   }
  }
 },
 "nbformat": 4,
 "nbformat_minor": 2
}
