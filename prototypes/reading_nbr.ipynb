{
 "cells": [
  {
   "cell_type": "code",
   "execution_count": 20,
   "metadata": {},
   "outputs": [],
   "source": [
    "import pandas as pd\n",
    "import numpy as np\n",
    "from pathlib import Path"
   ]
  },
  {
   "cell_type": "code",
   "execution_count": null,
   "metadata": {},
   "outputs": [],
   "source": [
    "# nbr parser\n",
    "with open(\"./data/taxid10239-2.nbr\", \"r\") as infile:\n",
    "    lines = infile.readlines()\n",
    "\n",
    "    cols = lines[1].strip().replace(\"\\t\", \"-\").replace('\"', '').split(\"-\")[1:]\n",
    "    all_data = []\n",
    "    for idx, line_cont in enumerate(lines[2:]):\n",
    "        data = line_cont.strip().replace(\"\\n\", \"\").replace(\"\\t\", \"---\").replace('\"', '').split(\"---\")\n",
    "        all_data.append(data)\n",
    "        if len(data) != 6:\n",
    "            print(idx+1, len(data))\n",
    "            print(data)"
   ]
  },
  {
   "cell_type": "code",
   "execution_count": null,
   "metadata": {},
   "outputs": [],
   "source": [
    "df = pd.DataFrame(data=all_data, columns=cols)\n",
    "df[\"Host\"]"
   ]
  },
  {
   "cell_type": "code",
   "execution_count": null,
   "metadata": {},
   "outputs": [],
   "source": [
    "data = lines[2].strip().replace(\"\\t\", \"-\").replace('\"', '').split(\"-\")\n",
    "data "
   ]
  },
  {
   "cell_type": "code",
   "execution_count": null,
   "metadata": {},
   "outputs": [],
   "source": [
    "len(data)"
   ]
  },
  {
   "cell_type": "code",
   "execution_count": null,
   "metadata": {},
   "outputs": [],
   "source": [
    "header = lines[1].strip().replace(\"\\t\", \"-\").replace('\"', '').split(\"-\")[1:]\n",
    "header\n"
   ]
  },
  {
   "cell_type": "code",
   "execution_count": null,
   "metadata": {},
   "outputs": [],
   "source": [
    "len(cont)"
   ]
  },
  {
   "cell_type": "code",
   "execution_count": 3,
   "metadata": {},
   "outputs": [],
   "source": [
    "## check if we can download the nbr file and parse it? \n",
    "import requests"
   ]
  },
  {
   "cell_type": "code",
   "execution_count": 17,
   "metadata": {},
   "outputs": [],
   "source": [
    "def check_request(req_object: requests.Response) -> None:\n",
    "    \"\"\"Wrapper for checking generated requests\n",
    "\n",
    "    Parameters\n",
    "    ----------\n",
    "    req_object : requests.Response\n",
    "        Request object\n",
    "    \n",
    "    Raises:\n",
    "    -------\n",
    "    \"\"\"\n",
    "    if req_object.status_code != 200:\n",
    "        raise ConnectionError(f\"Request unsuccessful {req_object.status_code}\")\n",
    "\n",
    "def _parse_viral_conts(contents: str) -> tuple:\n",
    "    \"\"\"Parses all viral accession\n",
    "\n",
    "    Parameters\n",
    "    ----------\n",
    "    contents : str\n",
    "        single string obtained from the request object. Contains all the information\n",
    "        in\n",
    "\n",
    "    Returns\n",
    "    -------\n",
    "    tuple\n",
    "        header and clean list of viral accession information.\n",
    "    \"\"\"\n",
    "    cols = contents[1].strip().replace(\"\\t\", \"-\").replace('\"', '').split(\"-\")[1:]\n",
    "    all_data = []\n",
    "    for idx, line_cont in enumerate(contents[2:]):\n",
    "        data = line_cont.strip().replace(\"\\n\", \"\").replace(\"\\t\", \"---\").replace('\"', '').split(\"---\")\n",
    "        all_data.append(data)\n",
    "\n",
    "    \n",
    "    return (cols, all_data)\n",
    "    "
   ]
  },
  {
   "cell_type": "code",
   "execution_count": 19,
   "metadata": {},
   "outputs": [
    {
     "name": "stdout",
     "output_type": "stream",
     "text": [
      "Downloading all viral ascensions\n",
      "404\n"
     ]
    },
    {
     "ename": "NameError",
     "evalue": "name '_parse_viral_conts' is not defined",
     "output_type": "error",
     "traceback": [
      "\u001b[0;31m---------------------------------------------------------------------------\u001b[0m",
      "\u001b[0;31mNameError\u001b[0m                                 Traceback (most recent call last)",
      "\u001b[1;32m/Users/erikserrano/Development/prelim/prelim3/VSeek/prototypes/reading_nbr.ipynb Cell 10'\u001b[0m in \u001b[0;36m<cell line: 13>\u001b[0;34m()\u001b[0m\n\u001b[1;32m     <a href='vscode-notebook-cell:/Users/erikserrano/Development/prelim/prelim3/VSeek/prototypes/reading_nbr.ipynb#ch0000008?line=9'>10</a>\u001b[0m contents \u001b[39m=\u001b[39m request\u001b[39m.\u001b[39mtext\u001b[39m.\u001b[39msplitlines()\n\u001b[1;32m     <a href='vscode-notebook-cell:/Users/erikserrano/Development/prelim/prelim3/VSeek/prototypes/reading_nbr.ipynb#ch0000008?line=11'>12</a>\u001b[0m \u001b[39m# parse content and convert into a pandas dataframe\u001b[39;00m\n\u001b[0;32m---> <a href='vscode-notebook-cell:/Users/erikserrano/Development/prelim/prelim3/VSeek/prototypes/reading_nbr.ipynb#ch0000008?line=12'>13</a>\u001b[0m header, viral_data \u001b[39m=\u001b[39m _parse_viral_conts(contents)\n\u001b[1;32m     <a href='vscode-notebook-cell:/Users/erikserrano/Development/prelim/prelim3/VSeek/prototypes/reading_nbr.ipynb#ch0000008?line=14'>15</a>\u001b[0m \u001b[39m# clearing memory space\u001b[39;00m\n\u001b[1;32m     <a href='vscode-notebook-cell:/Users/erikserrano/Development/prelim/prelim3/VSeek/prototypes/reading_nbr.ipynb#ch0000008?line=15'>16</a>\u001b[0m request \u001b[39m=\u001b[39m \u001b[39m0\u001b[39m\n",
      "\u001b[0;31mNameError\u001b[0m: name '_parse_viral_conts' is not defined"
     ]
    }
   ],
   "source": [
    "# def get_viral_genomes():\n",
    "print(\"Downloading all viral ascensions\")\n",
    "viral_ascensions = \"https://www.ncbi.nlm.nih.gov/genomes/GenomesGroup.cgi?taxid=10239&cmd=download2\"\n",
    "\n",
    "# check if the file already exists\n",
    "path = Path(\"./db/viral_ascensions.csv\")\n",
    "if not path.is_file():\n",
    "    # download the file\n",
    "    print()\n",
    "\n",
    "\n",
    "request = requests.get(viral_ascensions, timeout=10)\n",
    "#check_request(request)\n",
    "print(request.status_code)\n",
    "\n",
    "# convert obtained text into a list \n",
    "contents = request.text.splitlines()\n",
    "\n",
    "# parse content and convert into a pandas dataframe\n",
    "header, viral_data = _parse_viral_conts(contents)\n",
    "\n",
    "# clearing memory space\n",
    "request = 0\n",
    "del request\n",
    "\n",
    "viral_info_df = pd.DataFrame(data=viral_data, columns=header)\n",
    "\n",
    "\n",
    "\n",
    "\n",
    "\n"
   ]
  },
  {
   "cell_type": "code",
   "execution_count": null,
   "metadata": {},
   "outputs": [],
   "source": []
  }
 ],
 "metadata": {
  "interpreter": {
   "hash": "ed0af199d6dc1a90b033fbf6c9cd96d706dd6966901a1660a1f15156e5b00f0b"
  },
  "kernelspec": {
   "display_name": "Python 3.10.4 ('prelim3')",
   "language": "python",
   "name": "python3"
  },
  "language_info": {
   "codemirror_mode": {
    "name": "ipython",
    "version": 3
   },
   "file_extension": ".py",
   "mimetype": "text/x-python",
   "name": "python",
   "nbconvert_exporter": "python",
   "pygments_lexer": "ipython3",
   "version": "3.10.4"
  },
  "orig_nbformat": 4
 },
 "nbformat": 4,
 "nbformat_minor": 2
}
