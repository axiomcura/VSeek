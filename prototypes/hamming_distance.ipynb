{
 "cells": [
  {
   "cell_type": "code",
   "execution_count": 10,
   "metadata": {},
   "outputs": [],
   "source": [
    "from scipy.spatial.distance import hamming\n",
    "import numpy as np"
   ]
  },
  {
   "cell_type": "code",
   "execution_count": 11,
   "metadata": {},
   "outputs": [
    {
     "data": {
      "text/plain": [
       "0.16666666666666666"
      ]
     },
     "execution_count": 11,
     "metadata": {},
     "output_type": "execute_result"
    }
   ],
   "source": [
    "seq1 = np.array(\"A A A T T T\".split())\n",
    "seq2 = np.array(\"A A A T C T\".split())\n",
    "\n",
    "hamming(seq1, seq2)"
   ]
  },
  {
   "cell_type": "code",
   "execution_count": 13,
   "metadata": {},
   "outputs": [],
   "source": [
    "u_ne_c = seq1 != seq2"
   ]
  },
  {
   "cell_type": "code",
   "execution_count": 18,
   "metadata": {},
   "outputs": [
    {
     "ename": "TypeError",
     "evalue": "Axis must be specified when shapes of a and weights differ.",
     "output_type": "error",
     "traceback": [
      "\u001b[0;31m---------------------------------------------------------------------------\u001b[0m",
      "\u001b[0;31mTypeError\u001b[0m                                 Traceback (most recent call last)",
      "\u001b[1;32m/Users/erikserrano/Development/prelim/prelim3/VSeek/prototypes/hamming_distance.ipynb Cell 4'\u001b[0m in \u001b[0;36m<cell line: 1>\u001b[0;34m()\u001b[0m\n\u001b[0;32m----> <a href='vscode-notebook-cell:/Users/erikserrano/Development/prelim/prelim3/VSeek/prototypes/hamming_distance.ipynb#ch0000003?line=0'>1</a>\u001b[0m np\u001b[39m.\u001b[39;49maverage(u_ne_c, weights\u001b[39m=\u001b[39;49m[\u001b[39m1.0\u001b[39;49m, \u001b[39m1.0\u001b[39;49m])\n",
      "File \u001b[0;32m<__array_function__ internals>:180\u001b[0m, in \u001b[0;36maverage\u001b[0;34m(*args, **kwargs)\u001b[0m\n",
      "File \u001b[0;32m~/opt/anaconda3/envs/prelim3/lib/python3.10/site-packages/numpy/lib/function_base.py:508\u001b[0m, in \u001b[0;36maverage\u001b[0;34m(a, axis, weights, returned)\u001b[0m\n\u001b[1;32m    <a href='file:///Users/erikserrano/opt/anaconda3/envs/prelim3/lib/python3.10/site-packages/numpy/lib/function_base.py?line=505'>506</a>\u001b[0m \u001b[39mif\u001b[39;00m a\u001b[39m.\u001b[39mshape \u001b[39m!=\u001b[39m wgt\u001b[39m.\u001b[39mshape:\n\u001b[1;32m    <a href='file:///Users/erikserrano/opt/anaconda3/envs/prelim3/lib/python3.10/site-packages/numpy/lib/function_base.py?line=506'>507</a>\u001b[0m     \u001b[39mif\u001b[39;00m axis \u001b[39mis\u001b[39;00m \u001b[39mNone\u001b[39;00m:\n\u001b[0;32m--> <a href='file:///Users/erikserrano/opt/anaconda3/envs/prelim3/lib/python3.10/site-packages/numpy/lib/function_base.py?line=507'>508</a>\u001b[0m         \u001b[39mraise\u001b[39;00m \u001b[39mTypeError\u001b[39;00m(\n\u001b[1;32m    <a href='file:///Users/erikserrano/opt/anaconda3/envs/prelim3/lib/python3.10/site-packages/numpy/lib/function_base.py?line=508'>509</a>\u001b[0m             \u001b[39m\"\u001b[39m\u001b[39mAxis must be specified when shapes of a and weights \u001b[39m\u001b[39m\"\u001b[39m\n\u001b[1;32m    <a href='file:///Users/erikserrano/opt/anaconda3/envs/prelim3/lib/python3.10/site-packages/numpy/lib/function_base.py?line=509'>510</a>\u001b[0m             \u001b[39m\"\u001b[39m\u001b[39mdiffer.\u001b[39m\u001b[39m\"\u001b[39m)\n\u001b[1;32m    <a href='file:///Users/erikserrano/opt/anaconda3/envs/prelim3/lib/python3.10/site-packages/numpy/lib/function_base.py?line=510'>511</a>\u001b[0m     \u001b[39mif\u001b[39;00m wgt\u001b[39m.\u001b[39mndim \u001b[39m!=\u001b[39m \u001b[39m1\u001b[39m:\n\u001b[1;32m    <a href='file:///Users/erikserrano/opt/anaconda3/envs/prelim3/lib/python3.10/site-packages/numpy/lib/function_base.py?line=511'>512</a>\u001b[0m         \u001b[39mraise\u001b[39;00m \u001b[39mTypeError\u001b[39;00m(\n\u001b[1;32m    <a href='file:///Users/erikserrano/opt/anaconda3/envs/prelim3/lib/python3.10/site-packages/numpy/lib/function_base.py?line=512'>513</a>\u001b[0m             \u001b[39m\"\u001b[39m\u001b[39m1D weights expected when shapes of a and weights differ.\u001b[39m\u001b[39m\"\u001b[39m)\n",
      "\u001b[0;31mTypeError\u001b[0m: Axis must be specified when shapes of a and weights differ."
     ]
    }
   ],
   "source": [
    "u_ne_c = seq1 != seq2"
   ]
  },
  {
   "cell_type": "code",
   "execution_count": null,
   "metadata": {},
   "outputs": [],
   "source": []
  }
 ],
 "metadata": {
  "interpreter": {
   "hash": "ed0af199d6dc1a90b033fbf6c9cd96d706dd6966901a1660a1f15156e5b00f0b"
  },
  "kernelspec": {
   "display_name": "Python 3.10.4 ('prelim3')",
   "language": "python",
   "name": "python3"
  },
  "language_info": {
   "codemirror_mode": {
    "name": "ipython",
    "version": 3
   },
   "file_extension": ".py",
   "mimetype": "text/x-python",
   "name": "python",
   "nbconvert_exporter": "python",
   "pygments_lexer": "ipython3",
   "version": "3.10.4"
  },
  "orig_nbformat": 4
 },
 "nbformat": 4,
 "nbformat_minor": 2
}
