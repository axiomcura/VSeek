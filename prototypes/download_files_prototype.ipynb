{
 "cells": [
  {
   "cell_type": "code",
   "execution_count": 1,
   "metadata": {},
   "outputs": [],
   "source": [
    "from pathlib import Path\n",
    "import sys \n",
    "import pandas as pd\n",
    "import numpy as np\n",
    "import matplotlib.pyplot as plt\n",
    "import seaborn as sns\n",
    "\n",
    "\n",
    "import subprocess\n",
    "import shutil\n",
    "\n",
    "sys.path.append(\"./\")\n",
    "from vseek.common.errors import *"
   ]
  },
  {
   "cell_type": "code",
   "execution_count": 2,
   "metadata": {},
   "outputs": [],
   "source": [
    "# dowloading the data module \n",
    "def dependency_check(prog: str) -> bool:\n",
    "    \"\"\"Checks if the executable program is available\n",
    "\n",
    "    Parameters\n",
    "    ----------\n",
    "    prog : str\n",
    "        name of the program or executable\n",
    "    \n",
    "    Returns\n",
    "    -------\n",
    "    Bool\n",
    "        Returns True if the program exists \n",
    "\n",
    "    Raises:\n",
    "    -------\n",
    "    MissingDependencyError:\n",
    "        If the program is not found\n",
    "    UnsupportedDependencyError:\n",
    "        Raised if attempt to call unsupported executable. Please look at supported \n",
    "        executables in the yaml file.\n",
    "    \"\"\"\n",
    "    callables = [\"prefetch\", \"fasterq-dump\"]\n",
    "    \n",
    "    # checking if the callable is supported\n",
    "    if prog not in callables:\n",
    "        raise UnsupportedDependencyError(f\"{prog} is not supported. Supported programs {callables}\")\n",
    "\n",
    "    # checking if supported callable is installed\n",
    "    check = shutil.which(prog)\n",
    "    if check is None:\n",
    "        raise MissingDependencyError(f\"{prog} is not installed\")\n",
    "\n",
    "    return True\n",
    "\n",
    "    \n",
    "# TODO: add error parser for each callable?\n",
    "def _call(cmd: str) -> int:\n",
    "    \"\"\"Wrapper for calling executable\n",
    "\n",
    "    Parameters\n",
    "    ----------\n",
    "    cmd : str\n",
    "        command input\n",
    "    \n",
    "    Returns\n",
    "    -------\n",
    "    int\n",
    "        Return code\n",
    "        \n",
    "        \n",
    "    Raises:\n",
    "    -------\n",
    "    ExecutionFailedError:\n",
    "        raised when a non-zero exit status code is raised from the executable\n",
    "    \"\"\"\n",
    "    cmd = cmd.split() \n",
    "    call = subprocess.run(cmd, shell=False, stdout=subprocess.PIPE, stderr=subprocess.PIPE) \n",
    "    if call.returncode != 0:\n",
    "        raise ExecutionError(\"Execution failed. Non-zero exit status captured\")\n",
    "    \n",
    "    \n",
    "def download_fastq(sra_ids: str | list, threads=4, prefetch_dir=\"SRA_download\", fastq_dir=\"fastq_files\", verbose=False) -> str: \n",
    "    \"\"\" Downloads fastq file to local machine with given sra ascension id.\n",
    "\n",
    "    Parameters\n",
    "    ----------\n",
    "    sra_ids : str | list\n",
    "        single string that are delimited if multiple sra ids \n",
    "        by white spaces or a list of sra ascension ids\n",
    "    threads : int, optional\n",
    "        number of threads to use for downloading fastq files, \n",
    "        by default 4\n",
    "    prefetch_dir : str, optional\n",
    "        directory for storing prefetched sra files, \n",
    "        by default \"SRA_download\"\n",
    "    fastq_dir : str, optional\n",
    "        directory name for saving fastq files\n",
    "        by default \"fastq_files\"\n",
    "    \n",
    "    Returns\n",
    "    ------\n",
    "    str\n",
    "        returns the absolute path where the fastq files are downloaded\n",
    "    \"\"\"\n",
    "    \n",
    "    # type checking \n",
    "    if isinstance(sra_ids, str):\n",
    "        sra_ids = sra_ids.split()\n",
    "\n",
    "    # creating a prefetch directory\n",
    "    prefetch_path = Path(f\"{prefetch_dir}\")\n",
    "    prefetch_path.mkdir(exist_ok=True)\n",
    "    fastq_path = Path(fastq_dir)\n",
    "    fastq_path.mkdir(exist_ok=True)\n",
    "\n",
    "    # executeable names\n",
    "    prefetch_prog = \"prefetch\"\n",
    "    fasterq_prog = \"fasterq-dump\"\n",
    "\n",
    "    # checking dependencies \n",
    "    dependency_check(prefetch_prog)\n",
    "    dependency_check(fasterq_prog)\n",
    "\n",
    "    # prefetching sra files \n",
    "    print(\"Prefetching SRR data...\")\n",
    "    sra_ids_str = \" \".join(sra_ids)\n",
    "    prefetch_cmd = f\"{prefetch_prog} {sra_ids_str} -O {prefetch_path.absolute()}\"\n",
    "    _call(prefetch_cmd)\n",
    "\n",
    "\n",
    "    # TODO: add vdb_view steps checking that the files are not corrupt\n",
    "    # downloading fastq files\n",
    "    print(\"Downloading Fastq files\")\n",
    "    for sra_id in sra_ids:\n",
    "        fasterq_cmd = f\"{fasterq_prog} {prefetch_path.absolute()}/{sra_id}/{sra_id}.sra -e {threads} -O {fastq_path.absolute()}\" \n",
    "        print(fasterq_cmd)\n",
    "    #    _call(fasterq_cmd)\n",
    "    #    print(f\"{sra_id} fastq file download complete\")\n",
    "\n",
    "    return fastq_path.absolute()\n",
    "    "
   ]
  },
  {
   "cell_type": "code",
   "execution_count": 3,
   "metadata": {},
   "outputs": [
    {
     "name": "stdout",
     "output_type": "stream",
     "text": [
      "Prefetching SRR data...\n",
      "Downloading Fastq files\n",
      "fasterq-dump /Users/erikserrano/Development/prelim/prelim3/program_name/SRA_download/SRR12432009/SRR12432009.sra -e 4 -O /Users/erikserrano/Development/prelim/prelim3/program_name/fastq_files\n",
      "fasterq-dump /Users/erikserrano/Development/prelim/prelim3/program_name/SRA_download/SRR12464727/SRR12464727.sra -e 4 -O /Users/erikserrano/Development/prelim/prelim3/program_name/fastq_files\n"
     ]
    },
    {
     "data": {
      "text/plain": [
       "PosixPath('/Users/erikserrano/Development/prelim/prelim3/program_name/fastq_files')"
      ]
     },
     "execution_count": 3,
     "metadata": {},
     "output_type": "execute_result"
    }
   ],
   "source": [
    "# downloading the data \n",
    "srr_id = [\"SRR12432009\", \"SRR12464727\"] \n",
    "download_fastq(\"SRR12432009 SRR12464727\")"
   ]
  },
  {
   "cell_type": "code",
   "execution_count": 4,
   "metadata": {},
   "outputs": [
    {
     "name": "stdout",
     "output_type": "stream",
     "text": [
      "None\n"
     ]
    }
   ],
   "source": [
    "print(shutil.which(\"fasterq-d\"))"
   ]
  },
  {
   "cell_type": "code",
   "execution_count": null,
   "metadata": {},
   "outputs": [],
   "source": []
  }
 ],
 "metadata": {
  "interpreter": {
   "hash": "ed0af199d6dc1a90b033fbf6c9cd96d706dd6966901a1660a1f15156e5b00f0b"
  },
  "kernelspec": {
   "display_name": "Python 3.10.4 ('prelim3')",
   "language": "python",
   "name": "python3"
  },
  "language_info": {
   "codemirror_mode": {
    "name": "ipython",
    "version": 3
   },
   "file_extension": ".py",
   "mimetype": "text/x-python",
   "name": "python",
   "nbconvert_exporter": "python",
   "pygments_lexer": "ipython3",
   "version": "3.10.4"
  },
  "orig_nbformat": 4
 },
 "nbformat": 4,
 "nbformat_minor": 2
}
